{
 "cells": [
  {
   "cell_type": "code",
   "execution_count": null,
   "metadata": {},
   "outputs": [],
   "source": []
  }
 ],
 "metadata": {
  "kernelspec": {
   "display_name": "Python 3.9.12 ('base')",
   "language": "python",
   "name": "python3"
  },
  "language_info": {
   "name": "python",
   "version": "3.9.12"
  },
  "orig_nbformat": 4,
  "vscode": {
   "interpreter": {
    "hash": "e9dc8dcd4cdc8e6267a24972ac0f09aaf90dbdcf51b3ae9dee4f86fee0bfda21"
   }
  }
 },
 "nbformat": 4,
 "nbformat_minor": 2
}
